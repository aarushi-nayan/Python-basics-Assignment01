{
  "nbformat": 4,
  "nbformat_minor": 0,
  "metadata": {
    "colab": {
      "provenance": []
    },
    "kernelspec": {
      "name": "python3",
      "display_name": "Python 3"
    },
    "language_info": {
      "name": "python"
    }
  },
  "cells": [
    {
      "cell_type": "markdown",
      "source": [
        "# Assignment Answers\n",
        "# Python Basics\n",
        "\n",
        "Q1. What is Python, and why is it popular?\n",
        "\n",
        "---> Python is a high-level, interpreted programming language known for\n",
        "     its simplicity, readability, and versatility.\n",
        "\n",
        "     Python is popular for :\n",
        "      1. Easy to Learn and use.\n",
        "      2. Used in versatile applications - such as data analysis , web development, application development and many more.\n",
        "      3.Open source intrepreted, high level language and free for charge.\n",
        "      4 can be integrated into programs to provide a customizable interface.\n",
        "      5. Rich Eco-systems of libraries.\n",
        "      6. Used by many big companies.\n",
        "\n",
        " Q2. What is an interpreter in Python?\n",
        "\n",
        " ---> Interpreter in python is a program which reads and runs the code\n",
        "      line by line, one at a time.\n",
        "      When we write Python code like print(\"Hello\"), the interpreter translates that code into something your computer can understand and runs it right away.\n",
        "\n",
        " Q3. What are pre-defined keywords in Python?\n",
        "\n",
        " ---> Pre-defined keywords in Python are special words that are reserved\n",
        "      by the language because they have specific meanings and functions. We can’t use them as variable names, function names, or identifiers.\n",
        "\n",
        "      It is kind of a built-in-function which python understands.\n",
        "\n",
        "      For eg - if, else, for , while, etc.\n",
        "\n",
        "Q4.  Can keywords be used as variable names?\n",
        "\n",
        "---> No, Keywords cannot be used as a variable because it will confuse the\n",
        "     interpreter and throws an error.\n",
        "\n",
        "Q5. What is mutability in Python?\n",
        "\n",
        "---> Mutability refers to whether or not a data object can be changed\n",
        "     after it is created.\n",
        "     #\n",
        "\n"
      ],
      "metadata": {
        "id": "oaefXhNiWY5G"
      }
    },
    {
      "cell_type": "code",
      "source": [
        "# Example of mutability - lists , set.\n",
        "list1 = [1,2,3,4]\n",
        "list1[0] = 0\n",
        "print(list1)"
      ],
      "metadata": {
        "colab": {
          "base_uri": "https://localhost:8080/"
        },
        "id": "n4VCE6p8dcFb",
        "outputId": "0e4220cb-753d-4d65-9716-b11ad494c6f8"
      },
      "execution_count": null,
      "outputs": [
        {
          "output_type": "stream",
          "name": "stdout",
          "text": [
            "[0, 2, 3, 4]\n"
          ]
        }
      ]
    },
    {
      "cell_type": "markdown",
      "source": [
        "Q6. Why are lists mutable, but tuples are immutable?\n",
        "\n",
        "---> A list is mutable and it is designed to add, remove and change items.\n",
        "     They are built to be changed.\n",
        "     Lists are mutable because they’re meant for dynamic, changeable data.\n",
        "\n",
        "\n",
        "\n",
        "     A tuple is made to be fixed and secure. Once you create it:\n",
        "\n",
        "     You cannot change its contents.\n",
        "     This helps protect the data from accidental changes\n",
        "\n",
        "     Tuples are immutable because they’re meant for fixed, unchangeable data.\n",
        "\n",
        "Q7. What is the difference between “==” and “is” operators in Python?\n",
        "\n",
        "---> '==' - It checks if two things look the same."
      ],
      "metadata": {
        "id": "8CLAWt15d5z1"
      }
    },
    {
      "cell_type": "code",
      "source": [
        "#eg for ==\n",
        "a = [1,2,4]\n",
        "b = [1,2,4]\n",
        "\n",
        "print(a==b)"
      ],
      "metadata": {
        "colab": {
          "base_uri": "https://localhost:8080/"
        },
        "id": "SfL5OFmOzucp",
        "outputId": "65cff17a-ad9e-4200-f5b3-66033d87aabd"
      },
      "execution_count": null,
      "outputs": [
        {
          "output_type": "stream",
          "name": "stdout",
          "text": [
            "True\n"
          ]
        }
      ]
    },
    {
      "cell_type": "markdown",
      "source": [
        "  'is' - It checks if they are the exact same thing in memory."
      ],
      "metadata": {
        "id": "nq_WsoNmz_wJ"
      }
    },
    {
      "cell_type": "code",
      "execution_count": null,
      "metadata": {
        "colab": {
          "base_uri": "https://localhost:8080/"
        },
        "id": "ZRbafZHMWS2C",
        "outputId": "76ed6f70-2c97-4175-d302-5bde7206c47e"
      },
      "outputs": [
        {
          "output_type": "stream",
          "name": "stdout",
          "text": [
            "False\n"
          ]
        }
      ],
      "source": [
        "#eg for is:\n",
        "a = [1,2,3]\n",
        "b = [1,2,3]\n",
        "\n",
        "print(a is b)\n",
        "# False because they are two different objects, even if they look the same."
      ]
    },
    {
      "cell_type": "markdown",
      "source": [
        "Q8.  What are logical operators in Python?\n",
        "\n",
        "---> Logical operators are used to combine or compare conditions (True or\n",
        "     False).\n",
        "     \n",
        "     There are 3 main logical operators\n",
        "     1. and = Both must be true\n",
        "     2. or = At least one must be true\n",
        "     3. not = Opposite of the condition\n",
        "\n",
        "Q9. What is type casting in Python?\n",
        "\n",
        "---> Type casting is like changing the shape of data so you can use it in\n",
        "     a different way.\n",
        "\n",
        "     Type casting means changing one data type into another.\n",
        "\n",
        "     \n",
        "\n",
        "\n",
        "\n",
        "\n"
      ],
      "metadata": {
        "id": "S54bckPe1NV9"
      }
    },
    {
      "cell_type": "code",
      "source": [
        "x = \"10\"         # x is a string\n",
        "y = int(x)       # now y is an integer\n",
        "print(y + 5)     # Output: 15\n"
      ],
      "metadata": {
        "colab": {
          "base_uri": "https://localhost:8080/"
        },
        "id": "6MAwazYd2NHv",
        "outputId": "1e20f872-3e47-471d-faf3-d68ba79d70e0"
      },
      "execution_count": null,
      "outputs": [
        {
          "output_type": "stream",
          "name": "stdout",
          "text": [
            "15\n"
          ]
        }
      ]
    },
    {
      "cell_type": "markdown",
      "source": [
        "Q10. What is the difference between implicit and explicit type casting?\n",
        "\n",
        "---> Implicit Type Casting\n",
        "    1. Python automatically converts one data type to another without you\n",
        "       asking for it.\n",
        "    2. Happens when the conversion is safe and won’t lose data."
      ],
      "metadata": {
        "id": "YFy7l4_-2UIP"
      }
    },
    {
      "cell_type": "code",
      "source": [
        "x = 4\n",
        "y = 2.0\n",
        "\n",
        "print(x + y) #example for implicit type casting"
      ],
      "metadata": {
        "colab": {
          "base_uri": "https://localhost:8080/"
        },
        "id": "YXpA6OvF21Mm",
        "outputId": "9bf342cb-fb43-4da8-f8de-7bd7a9c44a9e"
      },
      "execution_count": null,
      "outputs": [
        {
          "output_type": "stream",
          "name": "stdout",
          "text": [
            "6.0\n"
          ]
        }
      ]
    },
    {
      "cell_type": "markdown",
      "source": [
        "    Explicit Type Casting\n",
        "    1. You explicitly tell Python to convert a data type into another\n",
        "       using functions like int(), float(), str(), etc.\n",
        "\n",
        "    2. You decide when and how the conversion happens.\n",
        "    "
      ],
      "metadata": {
        "id": "TXOOiZ183GZB"
      }
    },
    {
      "cell_type": "code",
      "source": [
        "x = 5.7       # Float\n",
        "y = int(x)    # Explicitly convert float to integer\n",
        "print(y)      # Output: 5 (the decimal part is removed)\n"
      ],
      "metadata": {
        "colab": {
          "base_uri": "https://localhost:8080/"
        },
        "id": "FeNB6v9b3dQ6",
        "outputId": "56f932af-878b-4232-d29f-ee5b3205c751"
      },
      "execution_count": null,
      "outputs": [
        {
          "output_type": "stream",
          "name": "stdout",
          "text": [
            "5\n"
          ]
        }
      ]
    },
    {
      "cell_type": "markdown",
      "source": [
        "Q11. What is the purpose of conditional statements in Python?\n",
        "\n",
        "---> Conditional statements allow your program to make decisions based on\n",
        "     certain conditions. They help your code respond differently depending on whether a condition is True or False.\n",
        "\n",
        "     1. if statement: Executes a block of code if the condition is True.\n",
        "     2. else statement: Executes code if the if condition is False.\n",
        "     3. elif (else if) statement: Checks another condition if the previous\n",
        "        if or elif condition is False.\n",
        "     4. Nested if-else: Use if-else inside another if-else to handle more\n",
        "        complex conditions.\n",
        "\n",
        "Q12. How does the elif statement work?\n",
        "\n",
        "---> The elif statement allows you to check multiple conditions in\n",
        "     sequence. If the first condition is False, Python will move to the elif condition and check it.\n",
        "\n",
        "\n",
        "    1. First, Python checks the if condition.\n",
        "\n",
        "    2. If if is False, it will then check the elif condition.\n",
        "\n",
        "    3. You can have multiple elif statements to check more than one condition.\n",
        "\n",
        "    4. If none of the if or elif conditions are True, it will run the else block (if present).\n",
        "\n",
        "  Let's see an example for the same.\n",
        "  \n",
        "\n"
      ],
      "metadata": {
        "id": "M2FH8ANV3jF6"
      }
    },
    {
      "cell_type": "code",
      "source": [
        "x = 5\n",
        "\n",
        "if x < 5:\n",
        "    print(\"x is less than 5\")\n",
        "elif x == 10:\n",
        "    print(\"x is exactly 10\")\n",
        "elif x > 5:\n",
        "    print(\"x is greater than 5\")\n",
        "else:\n",
        "    print(\"x is something else\")\n"
      ],
      "metadata": {
        "colab": {
          "base_uri": "https://localhost:8080/"
        },
        "id": "fVAIZ2GQed-d",
        "outputId": "74f0cefb-f1cb-4da3-92b1-ba988d92871a"
      },
      "execution_count": null,
      "outputs": [
        {
          "output_type": "stream",
          "name": "stdout",
          "text": [
            "x is something else\n"
          ]
        }
      ]
    },
    {
      "cell_type": "markdown",
      "source": [
        "Q13. What is the difference between for and while loops?\n",
        "\n",
        "---> Loops Statement\n",
        "     It allows you to execute a block of code repeatedly.\n",
        "\n",
        "\n",
        "  1. While Loop - repeatedly executed a block of code until a condition is\n",
        "     met.\n",
        "\n",
        "     when looping based on a condition.\n"
      ],
      "metadata": {
        "id": "NqnpVw2ferI_"
      }
    },
    {
      "cell_type": "code",
      "source": [
        "x = 0\n",
        "while x < 5:\n",
        "  x = x+1\n",
        "  print(x)"
      ],
      "metadata": {
        "colab": {
          "base_uri": "https://localhost:8080/"
        },
        "id": "fKBFiAijglTC",
        "outputId": "b6393090-e208-46f2-c99d-ad345be8a0e7"
      },
      "execution_count": null,
      "outputs": [
        {
          "output_type": "stream",
          "name": "stdout",
          "text": [
            "1\n",
            "2\n",
            "3\n",
            "4\n",
            "5\n"
          ]
        }
      ]
    },
    {
      "cell_type": "markdown",
      "source": [
        "    2. For Loop - Iterate over a sequence of elements. Strings and list\n",
        "       are sequential data.\n",
        "\n",
        "      - when looping through something (like a list or range)."
      ],
      "metadata": {
        "id": "qs8puvu7g1Hi"
      }
    },
    {
      "cell_type": "code",
      "source": [
        "for i in \"aarushi\":\n",
        "  print(i)"
      ],
      "metadata": {
        "colab": {
          "base_uri": "https://localhost:8080/"
        },
        "id": "WuFLyFMZhJA2",
        "outputId": "8914b5fb-b9ae-486d-cc90-2ef4118669e3"
      },
      "execution_count": null,
      "outputs": [
        {
          "output_type": "stream",
          "name": "stdout",
          "text": [
            "a\n",
            "a\n",
            "r\n",
            "u\n",
            "s\n",
            "h\n",
            "i\n"
          ]
        }
      ]
    },
    {
      "cell_type": "markdown",
      "source": [
        "Q14. Describe a scenario where a while loop is more suitable than a for\n",
        "     loop?\n",
        "\n",
        "---> A **while loop** is perfect when you don’t know how many times\n",
        "     something will need to happen — like asking the user to enter a correct password.\n",
        "\n",
        "     "
      ],
      "metadata": {
        "id": "JECT7IpwhjxW"
      }
    },
    {
      "cell_type": "code",
      "source": [
        "password = \"python123\"\n",
        "user_input = \"\"\n",
        "\n",
        "while user_input != password:\n",
        "    user_input = input(\"Enter the password: \")\n",
        "\n",
        "print(\"Access granted!\")\n"
      ],
      "metadata": {
        "colab": {
          "base_uri": "https://localhost:8080/"
        },
        "id": "GRKVF37Ehi70",
        "outputId": "d7376854-0800-4b1f-8e42-d428b2fb5a18"
      },
      "execution_count": null,
      "outputs": [
        {
          "output_type": "stream",
          "name": "stdout",
          "text": [
            "Enter the password: python123\n",
            "Access granted!\n"
          ]
        }
      ]
    },
    {
      "cell_type": "markdown",
      "source": [
        "A for loop wouldn’t make sense here unless you wanted to limit attempts.\n",
        "\n",
        "Use a **while loop** when:\n",
        "\n",
        "You’re waiting for a condition to become true.\n",
        "\n",
        "You don’t know the exact number of repetitions.\n",
        "\n",
        "\n",
        "\n",
        "# Practical Questions\n",
        "\n",
        "Q1. Write a Python program to print \"Hello, World!\n",
        "\n",
        "--->\n",
        "\n",
        "\n"
      ],
      "metadata": {
        "id": "5GNQFcfKjhEI"
      }
    },
    {
      "cell_type": "code",
      "source": [
        "print(\"Hello, World!\")"
      ],
      "metadata": {
        "colab": {
          "base_uri": "https://localhost:8080/"
        },
        "id": "3SiwzmdZkIgF",
        "outputId": "c9967671-9f49-4dc7-ee71-b91750dc5aab"
      },
      "execution_count": null,
      "outputs": [
        {
          "output_type": "stream",
          "name": "stdout",
          "text": [
            "Hello, World!\n"
          ]
        }
      ]
    },
    {
      "cell_type": "markdown",
      "source": [
        "Q2. Write a Python program that displays your name and age.\n",
        "\n",
        "--->"
      ],
      "metadata": {
        "id": "hZjftI0ukQGo"
      }
    },
    {
      "cell_type": "code",
      "source": [
        "a = \"Aarushi Nayan\"\n",
        "b = '24'\n",
        "\n",
        "print (a , b ,sep=\" & \")\n",
        "\n",
        "#or\n",
        "\n",
        "print(\"My name is\" , a)\n",
        "print(\"My Age is\" , b)\n"
      ],
      "metadata": {
        "colab": {
          "base_uri": "https://localhost:8080/"
        },
        "id": "_aDOVrF1kZU7",
        "outputId": "2cc20ff5-6a07-4a33-d6c0-4a1a1b5309e1"
      },
      "execution_count": null,
      "outputs": [
        {
          "output_type": "stream",
          "name": "stdout",
          "text": [
            "Aarushi Nayan & 24\n",
            "My name is Aarushi Nayan\n",
            "My Age is 24\n"
          ]
        }
      ]
    },
    {
      "cell_type": "markdown",
      "source": [
        "Q3. Write code to print all the pre-defined keywords in Python using the\n",
        "    keyword library.\n",
        "\n",
        "--->\n"
      ],
      "metadata": {
        "id": "eJ8GXpLLlSIG"
      }
    },
    {
      "cell_type": "code",
      "source": [
        "help('keywords')\n",
        "\n",
        "\n",
        "#or\n",
        "\n",
        "# Import the keyword module\n",
        "import keyword\n",
        "\n",
        "# Print all Python keywords\n",
        "print(\"List of Python keywords:\")\n",
        "print(keyword.kwlist)\n"
      ],
      "metadata": {
        "colab": {
          "base_uri": "https://localhost:8080/"
        },
        "id": "HnMMZMvJlpPt",
        "outputId": "d6aa0921-a482-4c43-b5e0-aafd0223fc6b"
      },
      "execution_count": null,
      "outputs": [
        {
          "output_type": "stream",
          "name": "stdout",
          "text": [
            "\n",
            "Here is a list of the Python keywords.  Enter any keyword to get more help.\n",
            "\n",
            "False               class               from                or\n",
            "None                continue            global              pass\n",
            "True                def                 if                  raise\n",
            "and                 del                 import              return\n",
            "as                  elif                in                  try\n",
            "assert              else                is                  while\n",
            "async               except              lambda              with\n",
            "await               finally             nonlocal            yield\n",
            "break               for                 not                 \n",
            "\n",
            "List of Python keywords:\n",
            "['False', 'None', 'True', 'and', 'as', 'assert', 'async', 'await', 'break', 'class', 'continue', 'def', 'del', 'elif', 'else', 'except', 'finally', 'for', 'from', 'global', 'if', 'import', 'in', 'is', 'lambda', 'nonlocal', 'not', 'or', 'pass', 'raise', 'return', 'try', 'while', 'with', 'yield']\n"
          ]
        }
      ]
    },
    {
      "cell_type": "markdown",
      "source": [
        "Q4. Write a program that checks if a given word is a Python keyword.\n",
        "\n",
        "--->\n"
      ],
      "metadata": {
        "id": "ZiBg6DEPmIRo"
      }
    },
    {
      "cell_type": "code",
      "source": [
        "import keyword\n",
        "\n",
        "# Ask the user for a word\n",
        "word = input(\"Enter a word: \")\n",
        "\n",
        "# Check if it's a keyword\n",
        "if keyword.iskeyword(word):\n",
        "    print(f\"'{word}' is a Python keyword.\")\n",
        "else:\n",
        "    print(f\"'{word}' is NOT a Python keyword.\")\n"
      ],
      "metadata": {
        "colab": {
          "base_uri": "https://localhost:8080/"
        },
        "id": "SbdEJntym7Qx",
        "outputId": "6cafe585-1303-40b4-b8a5-e9e648bd62bb"
      },
      "execution_count": null,
      "outputs": [
        {
          "output_type": "stream",
          "name": "stdout",
          "text": [
            "Enter a word: while\n",
            "'while' is a Python keyword.\n"
          ]
        }
      ]
    },
    {
      "cell_type": "markdown",
      "source": [
        "Q5. Create a list and tuple in Python, and demonstrate how attempting to\n",
        "  change an element works differently for each.\n",
        "\n",
        "--->"
      ],
      "metadata": {
        "id": "P1Ac5Mo1oL4b"
      }
    },
    {
      "cell_type": "code",
      "source": [
        "#created a list\n",
        "List = [1,2,3,4,5,6]\n",
        "\n",
        "print(List)\n",
        "\n",
        "List[0] = 0 #this will add an element in a list.\n",
        "print(List)\n",
        "\n",
        "type(List)\n",
        "\n",
        "#created a tuple\n",
        "\n",
        "tuple = (1,2,3)\n",
        "\n",
        "print(tuple)\n",
        "\n",
        "tuple[0] = 0\n",
        "\n",
        "print(tuple) #this will throw an error as tuples are immutable.\n",
        "\n"
      ],
      "metadata": {
        "collapsed": true,
        "id": "4P-d9IFQpIae"
      },
      "execution_count": null,
      "outputs": []
    },
    {
      "cell_type": "markdown",
      "source": [
        "Q6.  Write a function to demonstrate the behavior of mutable and immutable\n",
        "     arguments.\n",
        "\n",
        "--->"
      ],
      "metadata": {
        "id": "XGq9ECbHraRP"
      }
    },
    {
      "cell_type": "code",
      "source": [
        "def change_values(a, b):\n",
        "    a = a + 5           # Immutable (int) - change won't affect original\n",
        "    b.append(10)        # Mutable (list) - change will affect original\n",
        "    print(\"Inside function:\")\n",
        "    print(\"a =\", a)\n",
        "    print(\"b =\", b)\n",
        "\n",
        "x = 10\n",
        "y = [1, 2, 3]\n",
        "\n",
        "change_values(x, y)\n",
        "\n",
        "print(\"Outside function:\")\n",
        "print(\"x =\", x)        # Stays 10\n",
        "print(\"y =\", y)        # Becomes [1, 2, 3, 10]\n"
      ],
      "metadata": {
        "colab": {
          "base_uri": "https://localhost:8080/"
        },
        "id": "fI0Yf8r1rz_H",
        "outputId": "d2a9eed1-8d54-4e36-add2-2fbc801bf0b3"
      },
      "execution_count": null,
      "outputs": [
        {
          "output_type": "stream",
          "name": "stdout",
          "text": [
            "Inside function:\n",
            "a = 15\n",
            "b = [1, 2, 3, 10]\n",
            "Outside function:\n",
            "x = 10\n",
            "y = [1, 2, 3, 10]\n"
          ]
        }
      ]
    },
    {
      "cell_type": "markdown",
      "source": [
        "Q7. Write a program that performs basic arithmetic operations on two  \n",
        "     user-input numbers.\n",
        "\n",
        "--->"
      ],
      "metadata": {
        "id": "ctlWlmgBuVRH"
      }
    },
    {
      "cell_type": "code",
      "source": [
        "#Arithmetic operations\n",
        "a = float(input(\"Enter a  1st number =  \"))\n",
        "\n",
        "b = int(input(\"Enter a  2nd number =  \"))\n",
        "\n",
        " # Perform arithmetic operations\n",
        "\n",
        "print(\"Addition:\", a + b)\n",
        "print(\"Subtraction:\", a - b)\n",
        "print(\"Multiplication:\", a * b)\n",
        "\n",
        "\n"
      ],
      "metadata": {
        "colab": {
          "base_uri": "https://localhost:8080/"
        },
        "id": "Jmik55ULwenS",
        "outputId": "8e2104bd-f1e8-4372-b75a-6db7fc2dd0a0"
      },
      "execution_count": null,
      "outputs": [
        {
          "output_type": "stream",
          "name": "stdout",
          "text": [
            "Enter a  1st number =  10\n",
            "Enter a  2nd number =  12\n",
            "Addition: 22.0\n",
            "Subtraction: -2.0\n",
            "Multiplication: 120.0\n"
          ]
        }
      ]
    },
    {
      "cell_type": "markdown",
      "source": [
        "Q8.  Write a program to demonstrate the use of logical operators.\n",
        "\n",
        "---> Use of Logical operators\n",
        "\n",
        "     1. and returns True only if both conditions are true\n",
        "\n",
        "     2. or returns True if at least one condition is true\n",
        "\n",
        "     3. not reverses the result: True becomes False, and vice versa"
      ],
      "metadata": {
        "id": "PAQGMJhU3Uqz"
      }
    },
    {
      "cell_type": "code",
      "source": [
        "#logical operators\n",
        "\n",
        "# Take input from the user\n",
        "a = int(input(\"Enter first number: \"))\n",
        "b = int(input(\"Enter second number: \"))\n",
        "\n",
        "# Logical AND\n",
        "print(\"a > 0 and b > 0:\", a > 0 and b > 0)\n",
        "\n",
        "# Logical OR\n",
        "print(\"a > 0 or b > 0:\", a > 0 or b > 0)\n",
        "\n",
        "# Logical NOT\n",
        "print(\"not(a > 0):\", not(a > 0))\n"
      ],
      "metadata": {
        "colab": {
          "base_uri": "https://localhost:8080/"
        },
        "id": "XZPJQLGA3drk",
        "outputId": "11df7c96-4544-4cc6-a0f0-9206a8ac1551"
      },
      "execution_count": null,
      "outputs": [
        {
          "output_type": "stream",
          "name": "stdout",
          "text": [
            "Enter first number: 6\n",
            "Enter second number: 8\n",
            "a > 0 and b > 0: True\n",
            "a > 0 or b > 0: True\n",
            "not(a > 0): False\n"
          ]
        }
      ]
    },
    {
      "cell_type": "markdown",
      "source": [
        "Q9.  Write a Python program to convert user input from string to integer,\n",
        "     float, and boolean types.\n",
        "\n",
        " --->     "
      ],
      "metadata": {
        "id": "S8tV0pLXrToa"
      }
    },
    {
      "cell_type": "code",
      "source": [
        "#USER INPUT\n",
        "\n",
        "num = input(\"Enter a value =  \")\n",
        "\n",
        "# string to int\n",
        "\n",
        "a = int(num)\n",
        "print(\"Integer value = \", a)\n",
        "\n",
        "#convert to float\n",
        "\n",
        "b = float( num)\n",
        "print(\"Float Value = \" ,b)\n",
        "\n",
        "#convert to boolean\n",
        "\n",
        "c = bool(num)\n",
        "print(\"Boolean Value =  \", c)\n",
        "\n"
      ],
      "metadata": {
        "colab": {
          "base_uri": "https://localhost:8080/"
        },
        "id": "PgC3Ss3STAad",
        "outputId": "5f877d85-5607-46b6-fe64-a9b0e73584e3"
      },
      "execution_count": null,
      "outputs": [
        {
          "output_type": "stream",
          "name": "stdout",
          "text": [
            "Enter a value =  2\n",
            "Integer value =  2\n",
            "Float Value =  2.0\n",
            "Boolean Value =   True\n"
          ]
        }
      ]
    },
    {
      "cell_type": "markdown",
      "source": [
        "**NOTE **\n",
        "\n",
        "1. If the user enters something non-numeric (like \"hello\"), int() and\n",
        "   float () will raise an error.\n",
        "\n",
        "2. In Python, bool(\"\") is False, and any non-empty string becomes True.\n",
        "\n",
        "\n",
        "Q10.  Write code to demonstrate type casting with list elements.\n",
        "\n",
        "--->\n"
      ],
      "metadata": {
        "id": "J_1LOetgUIZ3"
      }
    },
    {
      "cell_type": "code",
      "source": [
        "# List of strings\n",
        "str_list = [\"10\", \"20\", \"30\"]\n",
        "\n",
        "# Convert string elements to integers\n",
        "int_list = [int(x) for x in str_list]\n",
        "print(\"Integer list:\", int_list)\n",
        "\n",
        "# Convert string elements to floats\n",
        "float_list = [float(x) for x in str_list]\n",
        "print(\"Float list:\", float_list)\n",
        "\n",
        "# Convert string elements to boolean\n",
        "bool_list = [bool(x) for x in str_list]\n",
        "print(\"Boolean list:\", bool_list)\n"
      ],
      "metadata": {
        "colab": {
          "base_uri": "https://localhost:8080/"
        },
        "id": "A4GN_K2zUuxK",
        "outputId": "43b273c1-0c23-41a5-de6c-0c653a7274d8"
      },
      "execution_count": null,
      "outputs": [
        {
          "output_type": "stream",
          "name": "stdout",
          "text": [
            "Integer list: [10, 20, 30]\n",
            "Float list: [10.0, 20.0, 30.0]\n",
            "Boolean list: [True, True, True]\n"
          ]
        }
      ]
    },
    {
      "cell_type": "markdown",
      "source": [
        "Q11. Write a program that checks if a number is positive, negative, or\n",
        "     zero.\n",
        "\n",
        "--->"
      ],
      "metadata": {
        "id": "P-v5M91vU5Hv"
      }
    },
    {
      "cell_type": "code",
      "source": [
        "\n",
        "#CHECKS IF A NUMBER IS POSITIVE, NEGATIVE OR ZERO\n",
        "\n",
        "a = float(input(\"Enter a number =  \"))\n",
        "if a>0:\n",
        "  print(a, \" is positive number\")\n",
        "\n",
        "elif a<0:\n",
        "  print(a, \" is negative number\")\n",
        "elif a==0:\n",
        "  print(a, \"is a zero\")\n",
        "\n",
        "\n",
        "\n"
      ],
      "metadata": {
        "colab": {
          "base_uri": "https://localhost:8080/"
        },
        "id": "bLhR6f82VBVB",
        "outputId": "eadcf66d-72d3-408b-8d24-1793ea554073"
      },
      "execution_count": null,
      "outputs": [
        {
          "output_type": "stream",
          "name": "stdout",
          "text": [
            "Enter a number =  1\n",
            "1.0  is positive number\n"
          ]
        }
      ]
    },
    {
      "cell_type": "markdown",
      "source": [
        "Q12. Write a for loop to print numbers from 1 to 10.\n",
        "\n",
        "---> Here, it is\n",
        "\n"
      ],
      "metadata": {
        "id": "ktD29-mqWUT_"
      }
    },
    {
      "cell_type": "code",
      "source": [
        "#Print numbers from 1 to 10\n",
        "\n",
        "for i in range(1,11):\n",
        " print(i)\n",
        "\n",
        "\n",
        " #using while loop\n",
        "\n",
        " i = 1\n",
        "while i <= 10:\n",
        "    print(i)\n",
        "    i += 1\n"
      ],
      "metadata": {
        "colab": {
          "base_uri": "https://localhost:8080/"
        },
        "collapsed": true,
        "id": "XwHT-QYIWfDN",
        "outputId": "d777aa60-8643-42e6-a154-b8785f25cd00"
      },
      "execution_count": null,
      "outputs": [
        {
          "output_type": "stream",
          "name": "stdout",
          "text": [
            "1\n",
            "2\n",
            "3\n",
            "4\n",
            "5\n",
            "6\n",
            "7\n",
            "8\n",
            "9\n",
            "10\n",
            "1\n",
            "2\n",
            "3\n",
            "4\n",
            "5\n",
            "6\n",
            "7\n",
            "8\n",
            "9\n",
            "10\n"
          ]
        }
      ]
    },
    {
      "cell_type": "markdown",
      "source": [
        "Q13. Write a Python program to find the sum of all even numbers between 1\n",
        "     and 50\n",
        "\n",
        "--->"
      ],
      "metadata": {
        "id": "nk8d7c1FXn7A"
      }
    },
    {
      "cell_type": "code",
      "source": [
        "#Sum of all even numbers between 1 and 50\n",
        "\n",
        "\n",
        "sum_even = 0\n",
        "\n",
        "for i in range(2, 51, 2):  # Start from 2, go up to 50, step by 2\n",
        "    sum_even += i\n",
        "\n",
        "print(\"Sum of even numbers from 1 to 50 is:\", sum_even)\n"
      ],
      "metadata": {
        "colab": {
          "base_uri": "https://localhost:8080/"
        },
        "id": "NC9oZ-mZX2Uz",
        "outputId": "031d29d3-1b56-4964-9727-3d3b9bd75ead"
      },
      "execution_count": null,
      "outputs": [
        {
          "output_type": "stream",
          "name": "stdout",
          "text": [
            "Sum of even numbers from 1 to 50 is: 650\n"
          ]
        }
      ]
    },
    {
      "cell_type": "markdown",
      "source": [
        "Q14. Write a program to reverse a string using a while loop.\n",
        "\n",
        "--->"
      ],
      "metadata": {
        "id": "zS5xW--pYqvi"
      }
    },
    {
      "cell_type": "code",
      "source": [
        "# Take input from the user\n",
        "text = input(\"Enter a string: \")\n",
        "\n",
        "# Initialize variables\n",
        "reversed_text = \"\"\n",
        "index = len(text) - 1\n",
        "\n",
        "# Reverse using while loop\n",
        "while index >= 0:\n",
        "    reversed_text += text[index]\n",
        "    index -= 1\n",
        "\n",
        "print(\"Reversed string:\", reversed_text)\n"
      ],
      "metadata": {
        "colab": {
          "base_uri": "https://localhost:8080/"
        },
        "id": "pOC4e293Yv3d",
        "outputId": "9ee17e0b-1c7c-4134-f1e0-74e8ab885244"
      },
      "execution_count": null,
      "outputs": [
        {
          "output_type": "stream",
          "name": "stdout",
          "text": [
            "Enter a string: Aarushi Nayan\n",
            "Reversed string: nayaN ihsuraA\n"
          ]
        }
      ]
    },
    {
      "cell_type": "markdown",
      "source": [
        "Q15.  Write a Python program to calculate the factorial of a number\n",
        "      provided by the user using a while loop.\n",
        "\n",
        "--->\n"
      ],
      "metadata": {
        "id": "Z8gKriwVZCsh"
      }
    },
    {
      "cell_type": "code",
      "source": [
        "# Take input from the user\n",
        "num = int(input(\"Enter a number: \"))\n",
        "\n",
        "# Initialize variables\n",
        "factorial = 1\n",
        "i = 1\n",
        "\n",
        "# Calculate factorial using while loop\n",
        "while i <= num:\n",
        "    factorial *= i\n",
        "    i += 1\n",
        "\n",
        "print(\"Factorial of\", num, \"is:\", factorial)\n"
      ],
      "metadata": {
        "colab": {
          "base_uri": "https://localhost:8080/"
        },
        "id": "L-WOZxBiZI-z",
        "outputId": "1c6159c7-0795-4409-921b-584218252f5e"
      },
      "execution_count": null,
      "outputs": [
        {
          "output_type": "stream",
          "name": "stdout",
          "text": [
            "Enter a number: 8\n",
            "Factorial of 8 is: 40320\n"
          ]
        }
      ]
    }
  ]
}